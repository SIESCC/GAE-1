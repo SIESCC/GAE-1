{
  "nbformat": 4,
  "nbformat_minor": 0,
  "metadata": {
    "colab": {
      "provenance": [],
      "include_colab_link": true
    },
    "kernelspec": {
      "name": "python3",
      "display_name": "Python 3"
    },
    "language_info": {
      "name": "python"
    }
  },
  "cells": [
    {
      "cell_type": "markdown",
      "metadata": {
        "id": "view-in-github",
        "colab_type": "text"
      },
      "source": [
        "<a href=\"https://colab.research.google.com/github/SIESCC/GAE-1/blob/main/HumaraBihar.ipynb\" target=\"_parent\"><img src=\"https://colab.research.google.com/assets/colab-badge.svg\" alt=\"Open In Colab\"/></a>"
      ]
    },
    {
      "cell_type": "markdown",
      "source": [
        "#Practical 1 A\n",
        "###Design a simple Linear neural network model"
      ],
      "metadata": {
        "id": "FKehZBpKaXaP"
      }
    },
    {
      "cell_type": "code",
      "execution_count": null,
      "metadata": {
        "colab": {
          "base_uri": "https://localhost:8080/"
        },
        "id": "YuJBcUe8XBn9",
        "outputId": "8c61c506-76e4-4c2e-d4f0-862f89c83aae"
      },
      "outputs": [
        {
          "output_type": "stream",
          "name": "stdout",
          "text": [
            "Enter a value for a1 11\n",
            "Enter a value for a2 12\n",
            "Enter a value for a3 13\n",
            "Enter a value for w1 21\n",
            "Enter a value for w2 22\n",
            "Enter a value for w3 23\n",
            "The value of y is : 794.0\n"
          ]
        }
      ],
      "source": [
        "a1=float(input(\"Enter a value for a1 \"))\n",
        "a2=float(input(\"Enter a value for a2 \"))\n",
        "a3=float(input(\"Enter a value for a3 \"))\n",
        "w1=float(input(\"Enter a value for w1 \"))\n",
        "w2=float(input(\"Enter a value for w2 \"))\n",
        "w3=float(input(\"Enter a value for w3 \"))\n",
        "y=float(a1*w1+a2*w2+a3*w3)\n",
        "print(\"The value of y is :\",y)"
      ]
    },
    {
      "cell_type": "markdown",
      "source": [
        "#Practical 1 B\n",
        "###Calculate the net input for the network given with bias included in the network"
      ],
      "metadata": {
        "id": "NcfZ3oLWavCn"
      }
    },
    {
      "cell_type": "code",
      "source": [
        "b=float(input(\"Enter a value for b \"))\n",
        "a1=float(input(\"Enter a value for a1 \"))\n",
        "a2=float(input(\"Enter a value for a2 \"))\n",
        "a3=float(input(\"Enter a value for a3 \"))\n",
        "a4=float(input(\"Enter a value for a4 \"))\n",
        "w1=float(input(\"Enter a value for w1 \"))\n",
        "w2=float(input(\"Enter a value for w2 \"))\n",
        "w3=float(input(\"Enter a value for w3 \"))\n",
        "w4=float(input(\"Enter a value for w4 \"))\n",
        "y=float(b+a1*w1+a2*w2+a3*w3+a4*w4)\n",
        "print(\"The value of y is :\",y)"
      ],
      "metadata": {
        "id": "J5LpmfaMay8m",
        "colab": {
          "base_uri": "https://localhost:8080/"
        },
        "outputId": "2635c6be-f6b3-4ad7-aeff-9e70048938cf"
      },
      "execution_count": null,
      "outputs": [
        {
          "output_type": "stream",
          "name": "stdout",
          "text": [
            "Enter a value for b 5\n",
            "Enter a value for a1 11\n",
            "Enter a value for a2 12\n",
            "Enter a value for a3 13\n",
            "Enter a value for a4 14\n",
            "Enter a value for w1 21\n",
            "Enter a value for w2 22\n",
            "Enter a value for w3 23\n",
            "Enter a value for w4 24\n",
            "The value of y is : 1135.0\n"
          ]
        }
      ]
    },
    {
      "cell_type": "markdown",
      "source": [
        "#Practical 2\n",
        "###Implement AND_NOT function using MCCULLOCH PITS NEURON"
      ],
      "metadata": {
        "id": "gJqXZ7Zx5MkH"
      }
    },
    {
      "cell_type": "code",
      "source": [
        "x1=float(input(\"Enter a value for x1:\"))\n",
        "x2=float(input(\"Enter a value for x2:\"))\n",
        "x3=float(input(\"Enter a value for x3:\"))\n",
        "w1=float(input(\"Enter a value for w1:\"))\n",
        "w2=float(input(\"Enter a value for w2:\"))\n",
        "w3=float(input(\"Enter a value for w3:\"))\n",
        "y=float(x1*w1+x2*w2+x3*w3)\n",
        "print(\"Value of Y is:\",y)\n",
        "if(y>=1):\n",
        "  print(\"Actual Output is:\",0)\n",
        "if(y<=1):\n",
        "  print(\"Actual Output is:\",1)"
      ],
      "metadata": {
        "colab": {
          "base_uri": "https://localhost:8080/"
        },
        "id": "pNVqNu445ehn",
        "outputId": "8975c768-dde2-4109-9d5e-b6fe176dfe5c"
      },
      "execution_count": null,
      "outputs": [
        {
          "output_type": "stream",
          "name": "stdout",
          "text": [
            "Enter a value for x1:11\n",
            "Enter a value for x2:12\n",
            "Enter a value for x3:13\n",
            "Enter a value for w1:21\n",
            "Enter a value for w2:22\n",
            "Enter a value for w3:23\n",
            "Value of Y is: 794.0\n",
            "Actual Output is: 0\n"
          ]
        }
      ]
    },
    {
      "cell_type": "markdown",
      "source": [
        "#PRACTICAL 3A\n",
        "###Implement HERB'S RULE"
      ],
      "metadata": {
        "id": "7xu_XSjZ7cRH"
      }
    },
    {
      "cell_type": "code",
      "source": [
        "x1=float(input(\"Enter a value for x1:\"))\n",
        "x2=float(input(\"Enter a value for x2:\"))\n",
        "w1=float(input(\"Enter a value for w1:\"))\n",
        "w2=float(input(\"Enter a value for w2:\"))\n",
        "yin=float(1+(x1*w1+x2*w2))\n",
        "print(\"Value of yin is:\",yin)\n",
        "\n",
        "#hebbs rule\n",
        "y = float(1/1+(2.178*yin))\n",
        "print(\"Value of y is:\",y)\n",
        "\n",
        "#We generate new weights\n",
        "w3= float(y*x1)\n",
        "w4= float(y*x2)\n",
        "print(\"value of 1 new weight is:\",w3)\n",
        "print(\"value of 2 new weight is:\",w4)\n",
        "\n",
        "ynew=float(1+(x1*w3+x2*w4))\n",
        "print(\"Value of ynew is:\",ynew)"
      ],
      "metadata": {
        "colab": {
          "base_uri": "https://localhost:8080/"
        },
        "id": "Q6atYbeV7YL4",
        "outputId": "91490c33-0f00-4426-9ca6-8bfb6ff8ba26"
      },
      "execution_count": null,
      "outputs": [
        {
          "output_type": "stream",
          "name": "stdout",
          "text": [
            "Enter a value for x1:-1\n",
            "Enter a value for x2:-2\n",
            "Enter a value for w1:-3\n",
            "Enter a value for w2:-4\n",
            "Value of yin is: 12.0\n",
            "Value of y is: 27.136\n",
            "value of 1 new weight is: -27.136\n",
            "value of 2 new weight is: -54.272\n",
            "Value of ynew is: 136.68\n"
          ]
        }
      ]
    },
    {
      "cell_type": "markdown",
      "source": [
        "#PRACTICAL 3B\n",
        "###Implement DELTA LEARNNG RULE"
      ],
      "metadata": {
        "id": "9SmxdMeM9ZNo"
      }
    },
    {
      "cell_type": "code",
      "source": [
        "x1=float(input(\"Enter a value for x1:\"))\n",
        "x2=float(input(\"Enter a value for x2:\"))\n",
        "e=float(input(\"Enter a value for e:\"))\n",
        "\n",
        "#equation\n",
        "eq=float(x1*x2)\n",
        "print(\"Value of equation:\",eq)\n",
        "\n",
        "#condition\n",
        "if(eq>=1):\n",
        "  print(\"Learning is Supervised\")\n",
        "else:\n",
        "  print(\"Learning is Unsupervised\")"
      ],
      "metadata": {
        "colab": {
          "base_uri": "https://localhost:8080/"
        },
        "id": "0bVJFN_Z9lrA",
        "outputId": "e189632d-fe94-417f-dbe0-381e0a413bc1"
      },
      "execution_count": null,
      "outputs": [
        {
          "output_type": "stream",
          "name": "stdout",
          "text": [
            "Enter a value for x1:1\n",
            "Enter a value for x2:2\n",
            "Enter a value for e:3\n",
            "Value of equation: 2.0\n",
            "Learning is Supervised\n"
          ]
        }
      ]
    },
    {
      "cell_type": "markdown",
      "source": [
        "#PRACTICAL 4\n",
        "###Implement fuzzy set operations,Union,Intersection and Complement"
      ],
      "metadata": {
        "id": "wLjr5cmnA85Y"
      }
    },
    {
      "cell_type": "markdown",
      "source": [
        "a) equal number of elements"
      ],
      "metadata": {
        "id": "73p_ERR1_SrO"
      }
    },
    {
      "cell_type": "code",
      "source": [
        "A=[0.2,0.4,0.6,0.8,0.1]\n",
        "B=[0.7,0.5,0.2,0.7,0.4]\n",
        "C=[]\n",
        "D=[]\n",
        "E=[]\n",
        "\n",
        "#looping for complement\n",
        "for i in A:\n",
        "  c=1-i\n",
        "  C.append(c)\n",
        "print(\"Complement of A is:\",C)\n",
        "\n",
        "for i in B:\n",
        "  c =1-i\n",
        "  C.append(c)\n",
        "print(\"Complement of B is:\",C)\n",
        "\n",
        "#Union\n",
        "for i in range (len(A)):\n",
        "  D.append(max(A[i],B[i]))\n",
        "print(\"Union of A and B is:\",D)\n",
        "\n",
        "#Intersection\n",
        "for i in range (len(A)):\n",
        "  E.append(min(A[i],B[i]))\n",
        "print(\"Intersection of A and B is:\",E)"
      ],
      "metadata": {
        "colab": {
          "base_uri": "https://localhost:8080/"
        },
        "id": "LQC3b_jh7OoG",
        "outputId": "2ae8d9ee-6af2-412e-ae8c-9891ed110f00"
      },
      "execution_count": null,
      "outputs": [
        {
          "output_type": "stream",
          "name": "stdout",
          "text": [
            "Complement of A is: [0.8, 0.6, 0.4, 0.19999999999999996, 0.9]\n",
            "Complement of B is: [0.8, 0.6, 0.4, 0.19999999999999996, 0.9, 0.30000000000000004, 0.5, 0.8, 0.30000000000000004, 0.6]\n",
            "Union of A and B is: [0.7, 0.5, 0.6, 0.8, 0.4]\n",
            "Intersection of A and B is: [0.2, 0.4, 0.2, 0.7, 0.1]\n"
          ]
        }
      ]
    },
    {
      "cell_type": "markdown",
      "source": [
        "b)UnequAL NUMBER OF ELEMENTS"
      ],
      "metadata": {
        "id": "oBJOPZtL_ZKF"
      }
    },
    {
      "cell_type": "code",
      "source": [
        "a=[0.2,0.7,0.2]\n",
        "b=[0.1,0.5,0.3,0.8,0.5,0.8]\n",
        "union=[]\n",
        "intersection= []\n",
        "complimentA=[]\n",
        "complimentB=[]\n",
        "\n",
        "for i in a:\n",
        "  complimentA.append(1-i)\n",
        "print(\"Compliment of A is:\",complimentA)\n",
        "\n",
        "for i in b:\n",
        "  c=1-i\n",
        "  complimentB.append(c)\n",
        "print(\"Compliment of B is:\",complimentB)\n",
        "\n",
        "mi= min(len(a),len(b))\n",
        "ma= max(len(a),len(b))\n",
        "for i in range(mi):\n",
        "  intersection.append(min(a[i],b[i]))\n",
        "  union.append(max(a[i],b[i]))\n",
        "if(len(a) != len(b)):\n",
        "  if (len(a) > len(b)):\n",
        "    for i in range (mi,ma):\n",
        "      union.append(a[i])\n",
        "      intersection.append(b[i])\n",
        "  else:\n",
        "    for i in range (mi,ma):\n",
        "      union.append(b[i])\n",
        "      intersection.append(b[i])\n",
        "print(\"Union of A and B is:\",union)\n",
        "print(\"Intersection of A and B is:\",intersection)\n",
        "print(\"Union of A and B is:\",union)"
      ],
      "metadata": {
        "colab": {
          "base_uri": "https://localhost:8080/"
        },
        "id": "er_c03I2_c6d",
        "outputId": "1ba0a008-60fd-41a9-8070-4743cd1344a6"
      },
      "execution_count": null,
      "outputs": [
        {
          "output_type": "stream",
          "name": "stdout",
          "text": [
            "Compliment of A is: [0.8, 0.30000000000000004, 0.8]\n",
            "Compliment of B is: [0.9, 0.5, 0.7, 0.19999999999999996, 0.5, 0.19999999999999996]\n",
            "Union of A and B is: [0.2, 0.7, 0.3, 0.8, 0.5, 0.8]\n",
            "Intersection of A and B is: [0.1, 0.5, 0.2, 0.8, 0.5, 0.8]\n",
            "Union of A and B is: [0.2, 0.7, 0.3, 0.8, 0.5, 0.8]\n"
          ]
        }
      ]
    },
    {
      "cell_type": "markdown",
      "source": [
        "#PRACTICAL 5\n",
        "###Implement a python program to find common member in the list without using IN operator"
      ],
      "metadata": {
        "id": "kDCuUN3EBL-Y"
      }
    },
    {
      "cell_type": "code",
      "source": [
        "list1 = [1, 2, 3, 4, 5]\n",
        "list2 = [5, 6, 7, 8, 9]\n",
        "Commonelement =set(list1).intersection(list2)\n",
        "print(\"The common elements are:\",Commonelement)"
      ],
      "metadata": {
        "colab": {
          "base_uri": "https://localhost:8080/"
        },
        "id": "GQbCPJtS7PPt",
        "outputId": "1b26e695-151c-4ed9-d263-f518e85b625d"
      },
      "execution_count": null,
      "outputs": [
        {
          "output_type": "stream",
          "name": "stdout",
          "text": [
            "The common elements are: {5}\n"
          ]
        }
      ]
    },
    {
      "cell_type": "markdown",
      "source": [
        "#PRACTICAL 6\n",
        "###Implement membership and identity operators"
      ],
      "metadata": {
        "id": "KEk4EdcLBc_4"
      }
    },
    {
      "cell_type": "code",
      "source": [
        "x1= float(input(\"Enter value of x1 :\"))\n",
        "x2= float(input(\"Enter value of x2 :\"))\n",
        "z=x1\n",
        "#z=x2\n",
        "print(\"z is x1\", z is x1)\n",
        "#print(z is x2)\n",
        "print(\"x1 is x2:\", x1 is x2)\n",
        "print(\"x1 == x2:\", x1 == x2)"
      ],
      "metadata": {
        "id": "RyvVZj4S7Px1",
        "colab": {
          "base_uri": "https://localhost:8080/"
        },
        "outputId": "27868774-6e45-49e8-b6ba-58c55858b14e"
      },
      "execution_count": null,
      "outputs": [
        {
          "output_type": "stream",
          "name": "stdout",
          "text": [
            "Enter value of x1 :11\n",
            "Enter value of x2 :11\n",
            "z is x1 True\n",
            "x1 is x2: False\n",
            "x1 == x2: True\n"
          ]
        }
      ]
    },
    {
      "cell_type": "markdown",
      "source": [
        "#PRACTICAL 7\n",
        "###Python program to illustrate the use of ISNOT identity operator"
      ],
      "metadata": {
        "id": "rP0MlCs_BnjA"
      }
    },
    {
      "cell_type": "code",
      "source": [
        "x1=float(input(\"Enter a value for x1:\"))\n",
        "x2=float(input(\"Enter a value for x2:\"))\n",
        "z=x1\n",
        "print(\"x1 is not z:\",z is not x1)\n",
        "print(\"x1 is not x2:\",x1 is not x2)\n",
        "print(\"x1 != x2 :\",x1 != x2)"
      ],
      "metadata": {
        "colab": {
          "base_uri": "https://localhost:8080/"
        },
        "id": "x6Mvp8-G7Qzd",
        "outputId": "786f3369-83f5-44ae-d3db-cb4dafbe727c"
      },
      "execution_count": null,
      "outputs": [
        {
          "output_type": "stream",
          "name": "stdout",
          "text": [
            "Enter a value for x1:1\n",
            "Enter a value for x2:2\n",
            "x1 is not z: False\n",
            "x1 is not x2: True\n",
            "x1 != x2 : True\n"
          ]
        }
      ]
    },
    {
      "cell_type": "markdown",
      "source": [
        "#PRACTICAL 8\n",
        "###Use of fuzzy composition\n"
      ],
      "metadata": {
        "id": "GpEnPlNyB4Wg"
      }
    },
    {
      "cell_type": "markdown",
      "source": [
        "a) Max-Min composition\n"
      ],
      "metadata": {
        "id": "X2nQBxYnEnkt"
      }
    },
    {
      "cell_type": "code",
      "source": [
        "def maxmin():\n",
        "    r1 = int(input(\"Enter no of row R:\"))\n",
        "    c1 = int(input(\"Enter no of column R:\"))\n",
        "    relation1 = [[0 for i in range(c1)] for j in range(r1)]\n",
        "    print(\"Enter the elements of R:\")\n",
        "    for i in range(r1):\n",
        "        for j in range(c1):\n",
        "            relation1[i][j] = float(input())\n",
        "\n",
        "    r2 = int(input(\"Enter no of row S:\"))\n",
        "    c2 = int(input(\"Enter no of column S:\"))\n",
        "    relation2 = [[0 for i in range(c2)] for j in range(r2)]\n",
        "    print(\"Enter the elements of S:\")\n",
        "    for i in range(r2):\n",
        "        for j in range(c2):\n",
        "            relation2[i][j] = float(input())\n",
        "\n",
        "    print(\"\\nR=\")\n",
        "    for i in range(r1):\n",
        "        for j in range(c1):\n",
        "            print(relation1[i][j], end=\" \")\n",
        "        print(\"\\n\")\n",
        "    print(\"\\nS=\")\n",
        "    for i in range(r2):\n",
        "        for j in range(c2):\n",
        "            print(relation2[i][j], end=\" \")\n",
        "        print(\"\\n\")\n",
        "\n",
        "    # The error occurs when c1 and r2 are not equal, and the for loop using k iterates out of bounds\n",
        "    # Changed k iteration range from r1 to min(c1, r2) to prevent exceeding bounds\n",
        "    comp = []\n",
        "    for i in range(r1):\n",
        "        comp.append([])\n",
        "        for j in range(c2):\n",
        "            I = []\n",
        "            # Use the minimum of c1 and r2 to prevent index errors\n",
        "            for k in range(min(c1, r2)):\n",
        "                I.append(min(relation1[i][k], relation2[k][j]))\n",
        "            comp[i].append(max(I))  # Append to comp[i] directly\n",
        "\n",
        "    print(\"\\nR.S=\")\n",
        "    for i in range(r1):\n",
        "        for j in range(c2):\n",
        "            print(comp[i][j], end=\" \")\n",
        "        print(\"\\n\")\n",
        "\n",
        "maxmin()"
      ],
      "metadata": {
        "colab": {
          "base_uri": "https://localhost:8080/"
        },
        "id": "Zu7bZkdIEsI9",
        "outputId": "a458671e-eb2d-48fd-c9a9-d3148f721f64"
      },
      "execution_count": null,
      "outputs": [
        {
          "output_type": "stream",
          "name": "stdout",
          "text": [
            "Enter no of row R:2\n",
            "Enter no of column R:2\n",
            "Enter the elements of R:\n",
            "1\n",
            "2\n",
            "3\n",
            "4\n",
            "Enter no of row S:2\n",
            "Enter no of column S:2\n",
            "Enter the elements of S:\n",
            "5\n",
            "6\n",
            "7\n",
            "8\n",
            "\n",
            "R=\n",
            "1.0 2.0 \n",
            "\n",
            "3.0 4.0 \n",
            "\n",
            "\n",
            "S=\n",
            "5.0 6.0 \n",
            "\n",
            "7.0 8.0 \n",
            "\n",
            "\n",
            "R.S=\n",
            "2.0 2.0 \n",
            "\n",
            "4.0 4.0 \n",
            "\n"
          ]
        }
      ]
    },
    {
      "cell_type": "markdown",
      "source": [
        "b) Max-Min product"
      ],
      "metadata": {
        "id": "4H2zWYSHEqGN"
      }
    },
    {
      "cell_type": "code",
      "source": [],
      "metadata": {
        "id": "fsurfYOS7RS2"
      },
      "execution_count": null,
      "outputs": []
    }
  ]
}