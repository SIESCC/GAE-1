{
  "nbformat": 4,
  "nbformat_minor": 0,
  "metadata": {
    "colab": {
      "provenance": [],
      "authorship_tag": "ABX9TyOH8NEsu9EWiEUEjLuwFJwg",
      "include_colab_link": true
    },
    "kernelspec": {
      "name": "python3",
      "display_name": "Python 3"
    },
    "language_info": {
      "name": "python"
    }
  },
  "cells": [
    {
      "cell_type": "markdown",
      "metadata": {
        "id": "view-in-github",
        "colab_type": "text"
      },
      "source": [
        "<a href=\"https://colab.research.google.com/github/SIESCC/GAE-1/blob/main/Practical1A.ipynb\" target=\"_parent\"><img src=\"https://colab.research.google.com/assets/colab-badge.svg\" alt=\"Open In Colab\"/></a>"
      ]
    },
    {
      "cell_type": "code",
      "execution_count": 2,
      "metadata": {
        "id": "0-dklFDRGqMm",
        "colab": {
          "base_uri": "https://localhost:8080/"
        },
        "outputId": "a7c0bed2-613e-4220-de6c-f6efe6c8adf5"
      },
      "outputs": [
        {
          "output_type": "stream",
          "name": "stdout",
          "text": [
            "Enter a value for a1 4\n",
            "Enter a value for a2 5\n",
            "Enter a value for a3 6\n",
            "Enter a value for w1 1\n",
            "Enter a value for w2 2\n",
            "Enter a value for w3 4\n",
            "The value of y is : 38.0\n"
          ]
        }
      ],
      "source": [
        "a1=float(input(\"Enter a value for a1 \"))\n",
        "a2=float(input(\"Enter a value for a2 \"))\n",
        "a3=float(input(\"Enter a value for a3 \"))\n",
        "w1=float(input(\"Enter a value for w1 \"))\n",
        "w2=float(input(\"Enter a value for w2 \"))\n",
        "w3=float(input(\"Enter a value for w3 \"))\n",
        "y=float(a1*w1+a2*w2+a3*w3)\n",
        "print(\"The value of y is :\",y)\n"
      ]
    }
  ]
}